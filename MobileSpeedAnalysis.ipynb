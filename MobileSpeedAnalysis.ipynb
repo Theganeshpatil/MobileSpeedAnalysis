{
 "cells": [
  {
   "cell_type": "markdown",
   "metadata": {},
   "source": [
    "# Mobile Data Speed Analysis for August 2021 in India\n",
    "\n",
    "### Dataset: All India Crowdsourced Mobile Data Speed Measurement for August 2021\n",
    "Dataset source [URL](https://data.gov.in/resource/all-india-crowdsourced-mobile-data-speed-measurement-august-2021)\n",
    "  \n",
    "This catalog provides Crowd sourced Mobile Data Speeds and other network information measured using TRAI MySpeed App.\n",
    "\n",
    "Insights you will get from this notebook.\n",
    "1. State wise speed analysis\n",
    "2. Providers state wise analysis\n",
    "3. Predict the speed based on the provider and the signal_strength"
   ]
  },
  {
   "cell_type": "code",
   "execution_count": 78,
   "metadata": {},
   "outputs": [],
   "source": [
    "import numpy as np\n",
    "import pandas as pd\n",
    "from matplotlib import pyplot as plt\n",
    "import seaborn as sns"
   ]
  },
  {
   "cell_type": "code",
   "execution_count": 46,
   "metadata": {},
   "outputs": [],
   "source": [
    "df = pd.read_csv('August_MySpeed_2021.csv')"
   ]
  },
  {
   "cell_type": "markdown",
   "metadata": {},
   "source": [
    "# Dataset explanation\n",
    "1. **operator** -> Sim card operator (e.g. Airtel, Jio, etc.)\n",
    "2. **technology** -> Which technology was used while speed testing\n",
    "3. **Download** -> What can kind of speed test was it? Download or Upload\n",
    "4. **speed_kbps** -> Speed in a Kbps\n",
    "5. **signal strength** -> Signal strength while testing\n",
    "6. **lsa** -> State where test was performed"
   ]
  },
  {
   "cell_type": "code",
   "execution_count": 47,
   "metadata": {},
   "outputs": [
    {
     "data": {
      "text/html": [
       "<div>\n",
       "<style scoped>\n",
       "    .dataframe tbody tr th:only-of-type {\n",
       "        vertical-align: middle;\n",
       "    }\n",
       "\n",
       "    .dataframe tbody tr th {\n",
       "        vertical-align: top;\n",
       "    }\n",
       "\n",
       "    .dataframe thead th {\n",
       "        text-align: right;\n",
       "    }\n",
       "</style>\n",
       "<table border=\"1\" class=\"dataframe\">\n",
       "  <thead>\n",
       "    <tr style=\"text-align: right;\">\n",
       "      <th></th>\n",
       "      <th>operator</th>\n",
       "      <th>technology</th>\n",
       "      <th>download</th>\n",
       "      <th>speed_kbps</th>\n",
       "      <th>signal_strength</th>\n",
       "      <th>lsa</th>\n",
       "    </tr>\n",
       "  </thead>\n",
       "  <tbody>\n",
       "    <tr>\n",
       "      <th>0</th>\n",
       "      <td>AIRTEL</td>\n",
       "      <td>4G</td>\n",
       "      <td>upload</td>\n",
       "      <td>40</td>\n",
       "      <td>na</td>\n",
       "      <td>Bihar</td>\n",
       "    </tr>\n",
       "    <tr>\n",
       "      <th>1</th>\n",
       "      <td>AIRTEL</td>\n",
       "      <td>4G</td>\n",
       "      <td>upload</td>\n",
       "      <td>251</td>\n",
       "      <td>-104</td>\n",
       "      <td>Bihar</td>\n",
       "    </tr>\n",
       "    <tr>\n",
       "      <th>2</th>\n",
       "      <td>AIRTEL</td>\n",
       "      <td>4G</td>\n",
       "      <td>upload</td>\n",
       "      <td>693</td>\n",
       "      <td>-107</td>\n",
       "      <td>NaN</td>\n",
       "    </tr>\n",
       "    <tr>\n",
       "      <th>3</th>\n",
       "      <td>AIRTEL</td>\n",
       "      <td>4G</td>\n",
       "      <td>upload</td>\n",
       "      <td>812</td>\n",
       "      <td>-105</td>\n",
       "      <td>Bihar</td>\n",
       "    </tr>\n",
       "    <tr>\n",
       "      <th>4</th>\n",
       "      <td>AIRTEL</td>\n",
       "      <td>4G</td>\n",
       "      <td>upload</td>\n",
       "      <td>770</td>\n",
       "      <td>-87</td>\n",
       "      <td>Bihar</td>\n",
       "    </tr>\n",
       "  </tbody>\n",
       "</table>\n",
       "</div>"
      ],
      "text/plain": [
       "  operator technology download  speed_kbps signal_strength    lsa\n",
       "0   AIRTEL         4G   upload          40              na  Bihar\n",
       "1   AIRTEL         4G   upload         251            -104  Bihar\n",
       "2   AIRTEL         4G   upload         693            -107    NaN\n",
       "3   AIRTEL         4G   upload         812            -105  Bihar\n",
       "4   AIRTEL         4G   upload         770             -87  Bihar"
      ]
     },
     "execution_count": 47,
     "metadata": {},
     "output_type": "execute_result"
    }
   ],
   "source": [
    "df.head()"
   ]
  },
  {
   "cell_type": "code",
   "execution_count": 48,
   "metadata": {},
   "outputs": [
    {
     "data": {
      "text/plain": [
       "(290496, 6)"
      ]
     },
     "execution_count": 48,
     "metadata": {},
     "output_type": "execute_result"
    }
   ],
   "source": [
    "df.shape"
   ]
  },
  {
   "cell_type": "code",
   "execution_count": 49,
   "metadata": {},
   "outputs": [
    {
     "name": "stdout",
     "output_type": "stream",
     "text": [
      "<class 'pandas.core.frame.DataFrame'>\n",
      "RangeIndex: 290496 entries, 0 to 290495\n",
      "Data columns (total 6 columns):\n",
      " #   Column           Non-Null Count   Dtype \n",
      "---  ------           --------------   ----- \n",
      " 0   operator         290496 non-null  object\n",
      " 1   technology       290496 non-null  object\n",
      " 2   download         290496 non-null  object\n",
      " 3   speed_kbps       290496 non-null  int64 \n",
      " 4   signal_strength  290496 non-null  object\n",
      " 5   lsa              247268 non-null  object\n",
      "dtypes: int64(1), object(5)\n",
      "memory usage: 13.3+ MB\n"
     ]
    }
   ],
   "source": [
    "df.info()"
   ]
  },
  {
   "cell_type": "code",
   "execution_count": 50,
   "metadata": {},
   "outputs": [
    {
     "data": {
      "text/plain": [
       "operator               0\n",
       "technology             0\n",
       "download               0\n",
       "speed_kbps             0\n",
       "signal_strength        0\n",
       "lsa                43228\n",
       "dtype: int64"
      ]
     },
     "execution_count": 50,
     "metadata": {},
     "output_type": "execute_result"
    }
   ],
   "source": [
    "df.isnull().sum()"
   ]
  },
  {
   "cell_type": "markdown",
   "metadata": {},
   "source": [
    "Original Dataset is of the shape (290496, 6).\n",
    "\n",
    "By Observations:\n",
    "1. We have the NaN values in lsa\n",
    "2. Also we can observe the na value in signal_strength but as the  signal_strength type was object it didn't showed in NaN values"
   ]
  },
  {
   "cell_type": "markdown",
   "metadata": {},
   "source": [
    "# Data Cleaning\n",
    "\n",
    "1. Remove the NaN values\n",
    "2. convert the `download`, `signal_strength`, `technology` to numerical value"
   ]
  },
  {
   "cell_type": "code",
   "execution_count": 51,
   "metadata": {},
   "outputs": [],
   "source": [
    "df = df.dropna()"
   ]
  },
  {
   "cell_type": "code",
   "execution_count": 52,
   "metadata": {},
   "outputs": [
    {
     "data": {
      "text/html": [
       "<div>\n",
       "<style scoped>\n",
       "    .dataframe tbody tr th:only-of-type {\n",
       "        vertical-align: middle;\n",
       "    }\n",
       "\n",
       "    .dataframe tbody tr th {\n",
       "        vertical-align: top;\n",
       "    }\n",
       "\n",
       "    .dataframe thead th {\n",
       "        text-align: right;\n",
       "    }\n",
       "</style>\n",
       "<table border=\"1\" class=\"dataframe\">\n",
       "  <thead>\n",
       "    <tr style=\"text-align: right;\">\n",
       "      <th></th>\n",
       "      <th>operator</th>\n",
       "      <th>technology</th>\n",
       "      <th>download</th>\n",
       "      <th>speed_kbps</th>\n",
       "      <th>signal_strength</th>\n",
       "      <th>lsa</th>\n",
       "    </tr>\n",
       "  </thead>\n",
       "  <tbody>\n",
       "    <tr>\n",
       "      <th>0</th>\n",
       "      <td>AIRTEL</td>\n",
       "      <td>4G</td>\n",
       "      <td>upload</td>\n",
       "      <td>40</td>\n",
       "      <td>na</td>\n",
       "      <td>Bihar</td>\n",
       "    </tr>\n",
       "    <tr>\n",
       "      <th>1</th>\n",
       "      <td>AIRTEL</td>\n",
       "      <td>4G</td>\n",
       "      <td>upload</td>\n",
       "      <td>251</td>\n",
       "      <td>-104</td>\n",
       "      <td>Bihar</td>\n",
       "    </tr>\n",
       "    <tr>\n",
       "      <th>3</th>\n",
       "      <td>AIRTEL</td>\n",
       "      <td>4G</td>\n",
       "      <td>upload</td>\n",
       "      <td>812</td>\n",
       "      <td>-105</td>\n",
       "      <td>Bihar</td>\n",
       "    </tr>\n",
       "    <tr>\n",
       "      <th>4</th>\n",
       "      <td>AIRTEL</td>\n",
       "      <td>4G</td>\n",
       "      <td>upload</td>\n",
       "      <td>770</td>\n",
       "      <td>-87</td>\n",
       "      <td>Bihar</td>\n",
       "    </tr>\n",
       "    <tr>\n",
       "      <th>5</th>\n",
       "      <td>AIRTEL</td>\n",
       "      <td>4G</td>\n",
       "      <td>upload</td>\n",
       "      <td>703</td>\n",
       "      <td>-107</td>\n",
       "      <td>Bihar</td>\n",
       "    </tr>\n",
       "    <tr>\n",
       "      <th>...</th>\n",
       "      <td>...</td>\n",
       "      <td>...</td>\n",
       "      <td>...</td>\n",
       "      <td>...</td>\n",
       "      <td>...</td>\n",
       "      <td>...</td>\n",
       "    </tr>\n",
       "    <tr>\n",
       "      <th>290491</th>\n",
       "      <td>Vi India</td>\n",
       "      <td>4G</td>\n",
       "      <td>upload</td>\n",
       "      <td>6591</td>\n",
       "      <td>-75</td>\n",
       "      <td>Punjab</td>\n",
       "    </tr>\n",
       "    <tr>\n",
       "      <th>290492</th>\n",
       "      <td>AIRTEL</td>\n",
       "      <td>4G</td>\n",
       "      <td>download</td>\n",
       "      <td>2080</td>\n",
       "      <td>-111</td>\n",
       "      <td>Orissa</td>\n",
       "    </tr>\n",
       "    <tr>\n",
       "      <th>290493</th>\n",
       "      <td>AIRTEL</td>\n",
       "      <td>4G</td>\n",
       "      <td>download</td>\n",
       "      <td>10819</td>\n",
       "      <td>-107</td>\n",
       "      <td>Orissa</td>\n",
       "    </tr>\n",
       "    <tr>\n",
       "      <th>290494</th>\n",
       "      <td>AIRTEL</td>\n",
       "      <td>4G</td>\n",
       "      <td>download</td>\n",
       "      <td>444</td>\n",
       "      <td>na</td>\n",
       "      <td>Orissa</td>\n",
       "    </tr>\n",
       "    <tr>\n",
       "      <th>290495</th>\n",
       "      <td>AIRTEL</td>\n",
       "      <td>4G</td>\n",
       "      <td>download</td>\n",
       "      <td>1808</td>\n",
       "      <td>na</td>\n",
       "      <td>Orissa</td>\n",
       "    </tr>\n",
       "  </tbody>\n",
       "</table>\n",
       "<p>247268 rows × 6 columns</p>\n",
       "</div>"
      ],
      "text/plain": [
       "        operator technology  download  speed_kbps signal_strength     lsa\n",
       "0         AIRTEL         4G    upload          40              na   Bihar\n",
       "1         AIRTEL         4G    upload         251            -104   Bihar\n",
       "3         AIRTEL         4G    upload         812            -105   Bihar\n",
       "4         AIRTEL         4G    upload         770             -87   Bihar\n",
       "5         AIRTEL         4G    upload         703            -107   Bihar\n",
       "...          ...        ...       ...         ...             ...     ...\n",
       "290491  Vi India         4G    upload        6591             -75  Punjab\n",
       "290492    AIRTEL         4G  download        2080            -111  Orissa\n",
       "290493    AIRTEL         4G  download       10819            -107  Orissa\n",
       "290494    AIRTEL         4G  download         444              na  Orissa\n",
       "290495    AIRTEL         4G  download        1808              na  Orissa\n",
       "\n",
       "[247268 rows x 6 columns]"
      ]
     },
     "execution_count": 52,
     "metadata": {},
     "output_type": "execute_result"
    }
   ],
   "source": [
    "df"
   ]
  },
  {
   "cell_type": "markdown",
   "metadata": {},
   "source": [
    "After removing the NaN values signal_strength still has the `na` value"
   ]
  },
  {
   "cell_type": "code",
   "execution_count": 53,
   "metadata": {},
   "outputs": [
    {
     "data": {
      "text/plain": [
       "na     41583\n",
       "-67    14402\n",
       "-69     8545\n",
       "-65     7549\n",
       "-66     6525\n",
       "       ...  \n",
       "-58       36\n",
       "-56       13\n",
       "-54       12\n",
       "-50       11\n",
       "-52        8\n",
       "Name: signal_strength, Length: 64, dtype: int64"
      ]
     },
     "execution_count": 53,
     "metadata": {},
     "output_type": "execute_result"
    }
   ],
   "source": [
    "df['signal_strength'].value_counts()"
   ]
  },
  {
   "cell_type": "markdown",
   "metadata": {},
   "source": [
    "Almost the `41583` values has `na` value"
   ]
  },
  {
   "cell_type": "code",
   "execution_count": 54,
   "metadata": {},
   "outputs": [
    {
     "data": {
      "text/plain": [
       "array(['na', '-104', '-105', '-87', '-107', '-57', '-111', '-108', '-62',\n",
       "       '-64', '-65', '-97', '-103', '-82', '-77', '-109', '-69', '-72',\n",
       "       '-74', '-112', '-100', '-53', '-63', '-70', '-68', '-89', '-81',\n",
       "       '-80', '-76', '-78', '-98', '-75', '-73', '-96', '-99', '-83',\n",
       "       '-93', '-71', '-61', '-67', '-110', '-85', '-66', '-102', '-91',\n",
       "       '-92', '-106', '-90', '-79', '-101', '-51', '-95', '-55', '-86',\n",
       "       '-88', '-94', '-84', '-60', '-59', '-58', '-54', '-50', '-56',\n",
       "       '-52'], dtype=object)"
      ]
     },
     "execution_count": 54,
     "metadata": {},
     "output_type": "execute_result"
    }
   ],
   "source": [
    "df['signal_strength'].unique()"
   ]
  },
  {
   "cell_type": "markdown",
   "metadata": {},
   "source": [
    "Let's fix the na value by replacing it with NaN value"
   ]
  },
  {
   "cell_type": "code",
   "execution_count": 55,
   "metadata": {},
   "outputs": [],
   "source": [
    "def fixNa(x):\n",
    "    if str(x) == 'na':\n",
    "        return np.nan\n",
    "    else:\n",
    "        return x\n",
    "\n"
   ]
  },
  {
   "cell_type": "code",
   "execution_count": 56,
   "metadata": {},
   "outputs": [],
   "source": [
    "df['signal_strength'] = df['signal_strength'].apply(fixNa)"
   ]
  },
  {
   "cell_type": "code",
   "execution_count": 57,
   "metadata": {},
   "outputs": [
    {
     "data": {
      "text/html": [
       "<div>\n",
       "<style scoped>\n",
       "    .dataframe tbody tr th:only-of-type {\n",
       "        vertical-align: middle;\n",
       "    }\n",
       "\n",
       "    .dataframe tbody tr th {\n",
       "        vertical-align: top;\n",
       "    }\n",
       "\n",
       "    .dataframe thead th {\n",
       "        text-align: right;\n",
       "    }\n",
       "</style>\n",
       "<table border=\"1\" class=\"dataframe\">\n",
       "  <thead>\n",
       "    <tr style=\"text-align: right;\">\n",
       "      <th></th>\n",
       "      <th>operator</th>\n",
       "      <th>technology</th>\n",
       "      <th>download</th>\n",
       "      <th>speed_kbps</th>\n",
       "      <th>signal_strength</th>\n",
       "      <th>lsa</th>\n",
       "    </tr>\n",
       "  </thead>\n",
       "  <tbody>\n",
       "    <tr>\n",
       "      <th>0</th>\n",
       "      <td>AIRTEL</td>\n",
       "      <td>4G</td>\n",
       "      <td>upload</td>\n",
       "      <td>40</td>\n",
       "      <td>NaN</td>\n",
       "      <td>Bihar</td>\n",
       "    </tr>\n",
       "    <tr>\n",
       "      <th>1</th>\n",
       "      <td>AIRTEL</td>\n",
       "      <td>4G</td>\n",
       "      <td>upload</td>\n",
       "      <td>251</td>\n",
       "      <td>-104</td>\n",
       "      <td>Bihar</td>\n",
       "    </tr>\n",
       "    <tr>\n",
       "      <th>3</th>\n",
       "      <td>AIRTEL</td>\n",
       "      <td>4G</td>\n",
       "      <td>upload</td>\n",
       "      <td>812</td>\n",
       "      <td>-105</td>\n",
       "      <td>Bihar</td>\n",
       "    </tr>\n",
       "    <tr>\n",
       "      <th>4</th>\n",
       "      <td>AIRTEL</td>\n",
       "      <td>4G</td>\n",
       "      <td>upload</td>\n",
       "      <td>770</td>\n",
       "      <td>-87</td>\n",
       "      <td>Bihar</td>\n",
       "    </tr>\n",
       "    <tr>\n",
       "      <th>5</th>\n",
       "      <td>AIRTEL</td>\n",
       "      <td>4G</td>\n",
       "      <td>upload</td>\n",
       "      <td>703</td>\n",
       "      <td>-107</td>\n",
       "      <td>Bihar</td>\n",
       "    </tr>\n",
       "    <tr>\n",
       "      <th>...</th>\n",
       "      <td>...</td>\n",
       "      <td>...</td>\n",
       "      <td>...</td>\n",
       "      <td>...</td>\n",
       "      <td>...</td>\n",
       "      <td>...</td>\n",
       "    </tr>\n",
       "    <tr>\n",
       "      <th>290491</th>\n",
       "      <td>Vi India</td>\n",
       "      <td>4G</td>\n",
       "      <td>upload</td>\n",
       "      <td>6591</td>\n",
       "      <td>-75</td>\n",
       "      <td>Punjab</td>\n",
       "    </tr>\n",
       "    <tr>\n",
       "      <th>290492</th>\n",
       "      <td>AIRTEL</td>\n",
       "      <td>4G</td>\n",
       "      <td>download</td>\n",
       "      <td>2080</td>\n",
       "      <td>-111</td>\n",
       "      <td>Orissa</td>\n",
       "    </tr>\n",
       "    <tr>\n",
       "      <th>290493</th>\n",
       "      <td>AIRTEL</td>\n",
       "      <td>4G</td>\n",
       "      <td>download</td>\n",
       "      <td>10819</td>\n",
       "      <td>-107</td>\n",
       "      <td>Orissa</td>\n",
       "    </tr>\n",
       "    <tr>\n",
       "      <th>290494</th>\n",
       "      <td>AIRTEL</td>\n",
       "      <td>4G</td>\n",
       "      <td>download</td>\n",
       "      <td>444</td>\n",
       "      <td>NaN</td>\n",
       "      <td>Orissa</td>\n",
       "    </tr>\n",
       "    <tr>\n",
       "      <th>290495</th>\n",
       "      <td>AIRTEL</td>\n",
       "      <td>4G</td>\n",
       "      <td>download</td>\n",
       "      <td>1808</td>\n",
       "      <td>NaN</td>\n",
       "      <td>Orissa</td>\n",
       "    </tr>\n",
       "  </tbody>\n",
       "</table>\n",
       "<p>247268 rows × 6 columns</p>\n",
       "</div>"
      ],
      "text/plain": [
       "        operator technology  download  speed_kbps signal_strength     lsa\n",
       "0         AIRTEL         4G    upload          40             NaN   Bihar\n",
       "1         AIRTEL         4G    upload         251            -104   Bihar\n",
       "3         AIRTEL         4G    upload         812            -105   Bihar\n",
       "4         AIRTEL         4G    upload         770             -87   Bihar\n",
       "5         AIRTEL         4G    upload         703            -107   Bihar\n",
       "...          ...        ...       ...         ...             ...     ...\n",
       "290491  Vi India         4G    upload        6591             -75  Punjab\n",
       "290492    AIRTEL         4G  download        2080            -111  Orissa\n",
       "290493    AIRTEL         4G  download       10819            -107  Orissa\n",
       "290494    AIRTEL         4G  download         444             NaN  Orissa\n",
       "290495    AIRTEL         4G  download        1808             NaN  Orissa\n",
       "\n",
       "[247268 rows x 6 columns]"
      ]
     },
     "execution_count": 57,
     "metadata": {},
     "output_type": "execute_result"
    }
   ],
   "source": [
    "df"
   ]
  },
  {
   "cell_type": "code",
   "execution_count": 58,
   "metadata": {},
   "outputs": [
    {
     "data": {
      "text/html": [
       "<div>\n",
       "<style scoped>\n",
       "    .dataframe tbody tr th:only-of-type {\n",
       "        vertical-align: middle;\n",
       "    }\n",
       "\n",
       "    .dataframe tbody tr th {\n",
       "        vertical-align: top;\n",
       "    }\n",
       "\n",
       "    .dataframe thead th {\n",
       "        text-align: right;\n",
       "    }\n",
       "</style>\n",
       "<table border=\"1\" class=\"dataframe\">\n",
       "  <thead>\n",
       "    <tr style=\"text-align: right;\">\n",
       "      <th></th>\n",
       "      <th>operator</th>\n",
       "      <th>technology</th>\n",
       "      <th>download</th>\n",
       "      <th>speed_kbps</th>\n",
       "      <th>signal_strength</th>\n",
       "      <th>lsa</th>\n",
       "    </tr>\n",
       "  </thead>\n",
       "  <tbody>\n",
       "    <tr>\n",
       "      <th>1</th>\n",
       "      <td>AIRTEL</td>\n",
       "      <td>4G</td>\n",
       "      <td>upload</td>\n",
       "      <td>251</td>\n",
       "      <td>-104</td>\n",
       "      <td>Bihar</td>\n",
       "    </tr>\n",
       "    <tr>\n",
       "      <th>3</th>\n",
       "      <td>AIRTEL</td>\n",
       "      <td>4G</td>\n",
       "      <td>upload</td>\n",
       "      <td>812</td>\n",
       "      <td>-105</td>\n",
       "      <td>Bihar</td>\n",
       "    </tr>\n",
       "    <tr>\n",
       "      <th>4</th>\n",
       "      <td>AIRTEL</td>\n",
       "      <td>4G</td>\n",
       "      <td>upload</td>\n",
       "      <td>770</td>\n",
       "      <td>-87</td>\n",
       "      <td>Bihar</td>\n",
       "    </tr>\n",
       "    <tr>\n",
       "      <th>5</th>\n",
       "      <td>AIRTEL</td>\n",
       "      <td>4G</td>\n",
       "      <td>upload</td>\n",
       "      <td>703</td>\n",
       "      <td>-107</td>\n",
       "      <td>Bihar</td>\n",
       "    </tr>\n",
       "    <tr>\n",
       "      <th>6</th>\n",
       "      <td>AIRTEL</td>\n",
       "      <td>4G</td>\n",
       "      <td>upload</td>\n",
       "      <td>138</td>\n",
       "      <td>-105</td>\n",
       "      <td>Bihar</td>\n",
       "    </tr>\n",
       "    <tr>\n",
       "      <th>...</th>\n",
       "      <td>...</td>\n",
       "      <td>...</td>\n",
       "      <td>...</td>\n",
       "      <td>...</td>\n",
       "      <td>...</td>\n",
       "      <td>...</td>\n",
       "    </tr>\n",
       "    <tr>\n",
       "      <th>290489</th>\n",
       "      <td>Vi India</td>\n",
       "      <td>4G</td>\n",
       "      <td>download</td>\n",
       "      <td>14545</td>\n",
       "      <td>-69</td>\n",
       "      <td>Punjab</td>\n",
       "    </tr>\n",
       "    <tr>\n",
       "      <th>290490</th>\n",
       "      <td>Vi India</td>\n",
       "      <td>4G</td>\n",
       "      <td>upload</td>\n",
       "      <td>10992</td>\n",
       "      <td>-79</td>\n",
       "      <td>Punjab</td>\n",
       "    </tr>\n",
       "    <tr>\n",
       "      <th>290491</th>\n",
       "      <td>Vi India</td>\n",
       "      <td>4G</td>\n",
       "      <td>upload</td>\n",
       "      <td>6591</td>\n",
       "      <td>-75</td>\n",
       "      <td>Punjab</td>\n",
       "    </tr>\n",
       "    <tr>\n",
       "      <th>290492</th>\n",
       "      <td>AIRTEL</td>\n",
       "      <td>4G</td>\n",
       "      <td>download</td>\n",
       "      <td>2080</td>\n",
       "      <td>-111</td>\n",
       "      <td>Orissa</td>\n",
       "    </tr>\n",
       "    <tr>\n",
       "      <th>290493</th>\n",
       "      <td>AIRTEL</td>\n",
       "      <td>4G</td>\n",
       "      <td>download</td>\n",
       "      <td>10819</td>\n",
       "      <td>-107</td>\n",
       "      <td>Orissa</td>\n",
       "    </tr>\n",
       "  </tbody>\n",
       "</table>\n",
       "<p>205685 rows × 6 columns</p>\n",
       "</div>"
      ],
      "text/plain": [
       "        operator technology  download  speed_kbps signal_strength     lsa\n",
       "1         AIRTEL         4G    upload         251            -104   Bihar\n",
       "3         AIRTEL         4G    upload         812            -105   Bihar\n",
       "4         AIRTEL         4G    upload         770             -87   Bihar\n",
       "5         AIRTEL         4G    upload         703            -107   Bihar\n",
       "6         AIRTEL         4G    upload         138            -105   Bihar\n",
       "...          ...        ...       ...         ...             ...     ...\n",
       "290489  Vi India         4G  download       14545             -69  Punjab\n",
       "290490  Vi India         4G    upload       10992             -79  Punjab\n",
       "290491  Vi India         4G    upload        6591             -75  Punjab\n",
       "290492    AIRTEL         4G  download        2080            -111  Orissa\n",
       "290493    AIRTEL         4G  download       10819            -107  Orissa\n",
       "\n",
       "[205685 rows x 6 columns]"
      ]
     },
     "execution_count": 58,
     "metadata": {},
     "output_type": "execute_result"
    }
   ],
   "source": [
    "df = df.dropna()\n",
    "df"
   ]
  },
  {
   "cell_type": "code",
   "execution_count": 59,
   "metadata": {},
   "outputs": [
    {
     "data": {
      "text/plain": [
       "operator           0\n",
       "technology         0\n",
       "download           0\n",
       "speed_kbps         0\n",
       "signal_strength    0\n",
       "lsa                0\n",
       "dtype: int64"
      ]
     },
     "execution_count": 59,
     "metadata": {},
     "output_type": "execute_result"
    }
   ],
   "source": [
    "df.isnull().sum()"
   ]
  },
  {
   "cell_type": "code",
   "execution_count": 61,
   "metadata": {},
   "outputs": [
    {
     "name": "stderr",
     "output_type": "stream",
     "text": [
      "/var/folders/px/6zsw73m1337_3ytjc342htzm0000gn/T/ipykernel_14864/4223117840.py:2: SettingWithCopyWarning: \n",
      "A value is trying to be set on a copy of a slice from a DataFrame.\n",
      "Try using .loc[row_indexer,col_indexer] = value instead\n",
      "\n",
      "See the caveats in the documentation: https://pandas.pydata.org/pandas-docs/stable/user_guide/indexing.html#returning-a-view-versus-a-copy\n",
      "  df['signal_strength'] = df['signal_strength'].astype('int64')\n"
     ]
    },
    {
     "data": {
      "text/plain": [
       "array([-104, -105,  -87, -107,  -57, -111, -108,  -62,  -64,  -65,  -97,\n",
       "       -103,  -82,  -77, -109,  -69,  -72,  -74, -112, -100,  -53,  -63,\n",
       "        -70,  -68,  -89,  -81,  -80,  -76,  -78,  -98,  -75,  -73,  -96,\n",
       "        -99,  -83,  -93,  -71,  -61,  -67, -110,  -85,  -66, -102,  -91,\n",
       "        -92, -106,  -90,  -79, -101,  -51,  -95,  -55,  -86,  -88,  -94,\n",
       "        -84,  -60,  -59,  -58,  -54,  -50,  -56,  -52])"
      ]
     },
     "execution_count": 61,
     "metadata": {},
     "output_type": "execute_result"
    }
   ],
   "source": [
    "# Convert the Object datatype to int64\n",
    "df['signal_strength'] = df['signal_strength'].astype('int64')\n",
    "df['signal_strength'].unique()"
   ]
  },
  {
   "cell_type": "code",
   "execution_count": 62,
   "metadata": {},
   "outputs": [
    {
     "name": "stdout",
     "output_type": "stream",
     "text": [
      "<class 'pandas.core.frame.DataFrame'>\n",
      "Int64Index: 205685 entries, 1 to 290493\n",
      "Data columns (total 6 columns):\n",
      " #   Column           Non-Null Count   Dtype \n",
      "---  ------           --------------   ----- \n",
      " 0   operator         205685 non-null  object\n",
      " 1   technology       205685 non-null  object\n",
      " 2   download         205685 non-null  object\n",
      " 3   speed_kbps       205685 non-null  int64 \n",
      " 4   signal_strength  205685 non-null  int64 \n",
      " 5   lsa              205685 non-null  object\n",
      "dtypes: int64(2), object(4)\n",
      "memory usage: 11.0+ MB\n"
     ]
    }
   ],
   "source": [
    "df.info()"
   ]
  },
  {
   "cell_type": "markdown",
   "metadata": {},
   "source": [
    "Let's change the technology to int64 \n",
    "\n",
    "Our dataset has only two technology results 3G and 4G\n",
    "\n",
    "Now we can replace the technology with 1 for 4G and 0 for 3G "
   ]
  },
  {
   "cell_type": "code",
   "execution_count": 63,
   "metadata": {},
   "outputs": [
    {
     "data": {
      "text/plain": [
       "4G    203047\n",
       "3G      2638\n",
       "Name: technology, dtype: int64"
      ]
     },
     "execution_count": 63,
     "metadata": {},
     "output_type": "execute_result"
    }
   ],
   "source": [
    "df['technology'].value_counts()"
   ]
  },
  {
   "cell_type": "code",
   "execution_count": 64,
   "metadata": {},
   "outputs": [
    {
     "data": {
      "text/plain": [
       "([<matplotlib.patches.Wedge at 0x7f87bb35fa00>,\n",
       "  <matplotlib.patches.Wedge at 0x7f87bb36e2b0>],\n",
       " [Text(-0.0443095109513063, -1.0991072137145022, '4G'),\n",
       "  Text(0.044309485224845666, 1.0991072147516407, '3G')],\n",
       " [Text(-0.02416882415525798, -0.5995130256624556, '98.7%'),\n",
       "  Text(0.024168810122643086, 0.5995130262281676, '1.3%')])"
      ]
     },
     "execution_count": 64,
     "metadata": {},
     "output_type": "execute_result"
    },
    {
     "data": {
      "image/png": "[encoded data removed]",
      "text/plain": [
       "<Figure size 640x480 with 1 Axes>"
      ]
     },
     "metadata": {},
     "output_type": "display_data"
    }
   ],
   "source": [
    "plt.pie(df['technology'].value_counts(), labels = df['technology'].value_counts().index, autopct='%1.1f%%', shadow=True, startangle=90)"
   ]
  },
  {
   "cell_type": "markdown",
   "metadata": {},
   "source": [
    "From above graph we can clearly see that in current usage more the 98.7% people are using 4G Technology."
   ]
  },
  {
   "cell_type": "code",
   "execution_count": 65,
   "metadata": {},
   "outputs": [],
   "source": [
    "def zeroOne(x):\n",
    "    if x == '4G':\n",
    "        return 1\n",
    "    else:\n",
    "        return 0"
   ]
  },
  {
   "cell_type": "code",
   "execution_count": 66,
   "metadata": {},
   "outputs": [
    {
     "name": "stderr",
     "output_type": "stream",
     "text": [
      "/var/folders/px/6zsw73m1337_3ytjc342htzm0000gn/T/ipykernel_14864/29448403.py:1: SettingWithCopyWarning: \n",
      "A value is trying to be set on a copy of a slice from a DataFrame.\n",
      "Try using .loc[row_indexer,col_indexer] = value instead\n",
      "\n",
      "See the caveats in the documentation: https://pandas.pydata.org/pandas-docs/stable/user_guide/indexing.html#returning-a-view-versus-a-copy\n",
      "  df['technology'] = df['technology'].apply(zeroOne)\n"
     ]
    },
    {
     "data": {
      "text/html": [
       "<div>\n",
       "<style scoped>\n",
       "    .dataframe tbody tr th:only-of-type {\n",
       "        vertical-align: middle;\n",
       "    }\n",
       "\n",
       "    .dataframe tbody tr th {\n",
       "        vertical-align: top;\n",
       "    }\n",
       "\n",
       "    .dataframe thead th {\n",
       "        text-align: right;\n",
       "    }\n",
       "</style>\n",
       "<table border=\"1\" class=\"dataframe\">\n",
       "  <thead>\n",
       "    <tr style=\"text-align: right;\">\n",
       "      <th></th>\n",
       "      <th>operator</th>\n",
       "      <th>technology</th>\n",
       "      <th>download</th>\n",
       "      <th>speed_kbps</th>\n",
       "      <th>signal_strength</th>\n",
       "      <th>lsa</th>\n",
       "    </tr>\n",
       "  </thead>\n",
       "  <tbody>\n",
       "    <tr>\n",
       "      <th>1</th>\n",
       "      <td>AIRTEL</td>\n",
       "      <td>1</td>\n",
       "      <td>upload</td>\n",
       "      <td>251</td>\n",
       "      <td>-104</td>\n",
       "      <td>Bihar</td>\n",
       "    </tr>\n",
       "    <tr>\n",
       "      <th>3</th>\n",
       "      <td>AIRTEL</td>\n",
       "      <td>1</td>\n",
       "      <td>upload</td>\n",
       "      <td>812</td>\n",
       "      <td>-105</td>\n",
       "      <td>Bihar</td>\n",
       "    </tr>\n",
       "    <tr>\n",
       "      <th>4</th>\n",
       "      <td>AIRTEL</td>\n",
       "      <td>1</td>\n",
       "      <td>upload</td>\n",
       "      <td>770</td>\n",
       "      <td>-87</td>\n",
       "      <td>Bihar</td>\n",
       "    </tr>\n",
       "    <tr>\n",
       "      <th>5</th>\n",
       "      <td>AIRTEL</td>\n",
       "      <td>1</td>\n",
       "      <td>upload</td>\n",
       "      <td>703</td>\n",
       "      <td>-107</td>\n",
       "      <td>Bihar</td>\n",
       "    </tr>\n",
       "    <tr>\n",
       "      <th>6</th>\n",
       "      <td>AIRTEL</td>\n",
       "      <td>1</td>\n",
       "      <td>upload</td>\n",
       "      <td>138</td>\n",
       "      <td>-105</td>\n",
       "      <td>Bihar</td>\n",
       "    </tr>\n",
       "    <tr>\n",
       "      <th>...</th>\n",
       "      <td>...</td>\n",
       "      <td>...</td>\n",
       "      <td>...</td>\n",
       "      <td>...</td>\n",
       "      <td>...</td>\n",
       "      <td>...</td>\n",
       "    </tr>\n",
       "    <tr>\n",
       "      <th>290489</th>\n",
       "      <td>Vi India</td>\n",
       "      <td>1</td>\n",
       "      <td>download</td>\n",
       "      <td>14545</td>\n",
       "      <td>-69</td>\n",
       "      <td>Punjab</td>\n",
       "    </tr>\n",
       "    <tr>\n",
       "      <th>290490</th>\n",
       "      <td>Vi India</td>\n",
       "      <td>1</td>\n",
       "      <td>upload</td>\n",
       "      <td>10992</td>\n",
       "      <td>-79</td>\n",
       "      <td>Punjab</td>\n",
       "    </tr>\n",
       "    <tr>\n",
       "      <th>290491</th>\n",
       "      <td>Vi India</td>\n",
       "      <td>1</td>\n",
       "      <td>upload</td>\n",
       "      <td>6591</td>\n",
       "      <td>-75</td>\n",
       "      <td>Punjab</td>\n",
       "    </tr>\n",
       "    <tr>\n",
       "      <th>290492</th>\n",
       "      <td>AIRTEL</td>\n",
       "      <td>1</td>\n",
       "      <td>download</td>\n",
       "      <td>2080</td>\n",
       "      <td>-111</td>\n",
       "      <td>Orissa</td>\n",
       "    </tr>\n",
       "    <tr>\n",
       "      <th>290493</th>\n",
       "      <td>AIRTEL</td>\n",
       "      <td>1</td>\n",
       "      <td>download</td>\n",
       "      <td>10819</td>\n",
       "      <td>-107</td>\n",
       "      <td>Orissa</td>\n",
       "    </tr>\n",
       "  </tbody>\n",
       "</table>\n",
       "<p>205685 rows × 6 columns</p>\n",
       "</div>"
      ],
      "text/plain": [
       "        operator  technology  download  speed_kbps  signal_strength     lsa\n",
       "1         AIRTEL           1    upload         251             -104   Bihar\n",
       "3         AIRTEL           1    upload         812             -105   Bihar\n",
       "4         AIRTEL           1    upload         770              -87   Bihar\n",
       "5         AIRTEL           1    upload         703             -107   Bihar\n",
       "6         AIRTEL           1    upload         138             -105   Bihar\n",
       "...          ...         ...       ...         ...              ...     ...\n",
       "290489  Vi India           1  download       14545              -69  Punjab\n",
       "290490  Vi India           1    upload       10992              -79  Punjab\n",
       "290491  Vi India           1    upload        6591              -75  Punjab\n",
       "290492    AIRTEL           1  download        2080             -111  Orissa\n",
       "290493    AIRTEL           1  download       10819             -107  Orissa\n",
       "\n",
       "[205685 rows x 6 columns]"
      ]
     },
     "execution_count": 66,
     "metadata": {},
     "output_type": "execute_result"
    }
   ],
   "source": [
    "df['technology'] = df['technology'].apply(zeroOne)\n",
    "df"
   ]
  },
  {
   "cell_type": "code",
   "execution_count": 67,
   "metadata": {},
   "outputs": [
    {
     "name": "stdout",
     "output_type": "stream",
     "text": [
      "<class 'pandas.core.frame.DataFrame'>\n",
      "Int64Index: 205685 entries, 1 to 290493\n",
      "Data columns (total 6 columns):\n",
      " #   Column           Non-Null Count   Dtype \n",
      "---  ------           --------------   ----- \n",
      " 0   operator         205685 non-null  object\n",
      " 1   technology       205685 non-null  int64 \n",
      " 2   download         205685 non-null  object\n",
      " 3   speed_kbps       205685 non-null  int64 \n",
      " 4   signal_strength  205685 non-null  int64 \n",
      " 5   lsa              205685 non-null  object\n",
      "dtypes: int64(3), object(3)\n",
      "memory usage: 11.0+ MB\n"
     ]
    }
   ],
   "source": [
    "df.info()"
   ]
  },
  {
   "cell_type": "markdown",
   "metadata": {},
   "source": [
    "Our download column is having the categorical values, Lets change it to numerical values, Here I'm changing the download value with 1 and upload with 0\n",
    "\n",
    "Similarly, Let's change the download attribute to int64 \n",
    "\n",
    "Our dataset has only two types of download fields.\n",
    "\n",
    "Now we can replace the download speeds with 1 for 4G and upload speeds with 0"
   ]
  },
  {
   "cell_type": "code",
   "execution_count": 68,
   "metadata": {},
   "outputs": [
    {
     "data": {
      "text/plain": [
       "download    103769\n",
       "upload      101916\n",
       "Name: download, dtype: int64"
      ]
     },
     "execution_count": 68,
     "metadata": {},
     "output_type": "execute_result"
    }
   ],
   "source": [
    "df['download'].value_counts()"
   ]
  },
  {
   "cell_type": "code",
   "execution_count": 69,
   "metadata": {},
   "outputs": [],
   "source": [
    "def oneZero(a):\n",
    "    if str(a) == 'download':\n",
    "        return 1\n",
    "    else:\n",
    "        return 0"
   ]
  },
  {
   "cell_type": "code",
   "execution_count": 70,
   "metadata": {},
   "outputs": [
    {
     "name": "stderr",
     "output_type": "stream",
     "text": [
      "/var/folders/px/6zsw73m1337_3ytjc342htzm0000gn/T/ipykernel_14864/3439364519.py:1: SettingWithCopyWarning: \n",
      "A value is trying to be set on a copy of a slice from a DataFrame.\n",
      "Try using .loc[row_indexer,col_indexer] = value instead\n",
      "\n",
      "See the caveats in the documentation: https://pandas.pydata.org/pandas-docs/stable/user_guide/indexing.html#returning-a-view-versus-a-copy\n",
      "  df['download'] = df['download'].apply(oneZero)\n"
     ]
    },
    {
     "data": {
      "text/html": [
       "<div>\n",
       "<style scoped>\n",
       "    .dataframe tbody tr th:only-of-type {\n",
       "        vertical-align: middle;\n",
       "    }\n",
       "\n",
       "    .dataframe tbody tr th {\n",
       "        vertical-align: top;\n",
       "    }\n",
       "\n",
       "    .dataframe thead th {\n",
       "        text-align: right;\n",
       "    }\n",
       "</style>\n",
       "<table border=\"1\" class=\"dataframe\">\n",
       "  <thead>\n",
       "    <tr style=\"text-align: right;\">\n",
       "      <th></th>\n",
       "      <th>operator</th>\n",
       "      <th>technology</th>\n",
       "      <th>download</th>\n",
       "      <th>speed_kbps</th>\n",
       "      <th>signal_strength</th>\n",
       "      <th>lsa</th>\n",
       "    </tr>\n",
       "  </thead>\n",
       "  <tbody>\n",
       "    <tr>\n",
       "      <th>1</th>\n",
       "      <td>AIRTEL</td>\n",
       "      <td>1</td>\n",
       "      <td>0</td>\n",
       "      <td>251</td>\n",
       "      <td>-104</td>\n",
       "      <td>Bihar</td>\n",
       "    </tr>\n",
       "    <tr>\n",
       "      <th>3</th>\n",
       "      <td>AIRTEL</td>\n",
       "      <td>1</td>\n",
       "      <td>0</td>\n",
       "      <td>812</td>\n",
       "      <td>-105</td>\n",
       "      <td>Bihar</td>\n",
       "    </tr>\n",
       "    <tr>\n",
       "      <th>4</th>\n",
       "      <td>AIRTEL</td>\n",
       "      <td>1</td>\n",
       "      <td>0</td>\n",
       "      <td>770</td>\n",
       "      <td>-87</td>\n",
       "      <td>Bihar</td>\n",
       "    </tr>\n",
       "    <tr>\n",
       "      <th>5</th>\n",
       "      <td>AIRTEL</td>\n",
       "      <td>1</td>\n",
       "      <td>0</td>\n",
       "      <td>703</td>\n",
       "      <td>-107</td>\n",
       "      <td>Bihar</td>\n",
       "    </tr>\n",
       "    <tr>\n",
       "      <th>6</th>\n",
       "      <td>AIRTEL</td>\n",
       "      <td>1</td>\n",
       "      <td>0</td>\n",
       "      <td>138</td>\n",
       "      <td>-105</td>\n",
       "      <td>Bihar</td>\n",
       "    </tr>\n",
       "    <tr>\n",
       "      <th>...</th>\n",
       "      <td>...</td>\n",
       "      <td>...</td>\n",
       "      <td>...</td>\n",
       "      <td>...</td>\n",
       "      <td>...</td>\n",
       "      <td>...</td>\n",
       "    </tr>\n",
       "    <tr>\n",
       "      <th>290489</th>\n",
       "      <td>Vi India</td>\n",
       "      <td>1</td>\n",
       "      <td>1</td>\n",
       "      <td>14545</td>\n",
       "      <td>-69</td>\n",
       "      <td>Punjab</td>\n",
       "    </tr>\n",
       "    <tr>\n",
       "      <th>290490</th>\n",
       "      <td>Vi India</td>\n",
       "      <td>1</td>\n",
       "      <td>0</td>\n",
       "      <td>10992</td>\n",
       "      <td>-79</td>\n",
       "      <td>Punjab</td>\n",
       "    </tr>\n",
       "    <tr>\n",
       "      <th>290491</th>\n",
       "      <td>Vi India</td>\n",
       "      <td>1</td>\n",
       "      <td>0</td>\n",
       "      <td>6591</td>\n",
       "      <td>-75</td>\n",
       "      <td>Punjab</td>\n",
       "    </tr>\n",
       "    <tr>\n",
       "      <th>290492</th>\n",
       "      <td>AIRTEL</td>\n",
       "      <td>1</td>\n",
       "      <td>1</td>\n",
       "      <td>2080</td>\n",
       "      <td>-111</td>\n",
       "      <td>Orissa</td>\n",
       "    </tr>\n",
       "    <tr>\n",
       "      <th>290493</th>\n",
       "      <td>AIRTEL</td>\n",
       "      <td>1</td>\n",
       "      <td>1</td>\n",
       "      <td>10819</td>\n",
       "      <td>-107</td>\n",
       "      <td>Orissa</td>\n",
       "    </tr>\n",
       "  </tbody>\n",
       "</table>\n",
       "<p>205685 rows × 6 columns</p>\n",
       "</div>"
      ],
      "text/plain": [
       "        operator  technology  download  speed_kbps  signal_strength     lsa\n",
       "1         AIRTEL           1         0         251             -104   Bihar\n",
       "3         AIRTEL           1         0         812             -105   Bihar\n",
       "4         AIRTEL           1         0         770              -87   Bihar\n",
       "5         AIRTEL           1         0         703             -107   Bihar\n",
       "6         AIRTEL           1         0         138             -105   Bihar\n",
       "...          ...         ...       ...         ...              ...     ...\n",
       "290489  Vi India           1         1       14545              -69  Punjab\n",
       "290490  Vi India           1         0       10992              -79  Punjab\n",
       "290491  Vi India           1         0        6591              -75  Punjab\n",
       "290492    AIRTEL           1         1        2080             -111  Orissa\n",
       "290493    AIRTEL           1         1       10819             -107  Orissa\n",
       "\n",
       "[205685 rows x 6 columns]"
      ]
     },
     "execution_count": 70,
     "metadata": {},
     "output_type": "execute_result"
    }
   ],
   "source": [
    "df['download'] = df['download'].apply(oneZero)\n",
    "df"
   ]
  },
  {
   "cell_type": "code",
   "execution_count": 71,
   "metadata": {},
   "outputs": [
    {
     "data": {
      "text/plain": [
       "1    103769\n",
       "0    101916\n",
       "Name: download, dtype: int64"
      ]
     },
     "execution_count": 71,
     "metadata": {},
     "output_type": "execute_result"
    }
   ],
   "source": [
    "df['download'].value_counts()"
   ]
  },
  {
   "cell_type": "markdown",
   "metadata": {},
   "source": [
    "Lets Check the operator based rows"
   ]
  },
  {
   "cell_type": "code",
   "execution_count": 72,
   "metadata": {},
   "outputs": [
    {
     "data": {
      "text/plain": [
       "JIO         126667\n",
       "AIRTEL       43485\n",
       "Vi India     31740\n",
       "CELLONE       3793\n",
       "Name: operator, dtype: int64"
      ]
     },
     "execution_count": 72,
     "metadata": {},
     "output_type": "execute_result"
    }
   ],
   "source": [
    "df['operator'].value_counts()"
   ]
  },
  {
   "cell_type": "markdown",
   "metadata": {},
   "source": [
    "Operators visualized on pi chart"
   ]
  },
  {
   "cell_type": "code",
   "execution_count": 73,
   "metadata": {},
   "outputs": [
    {
     "data": {
      "text/plain": [
       "([<matplotlib.patches.Wedge at 0x7f87a8cbb3d0>,\n",
       "  <matplotlib.patches.Wedge at 0x7f87a8cbbd60>,\n",
       "  <matplotlib.patches.Wedge at 0x7f87a8cc7730>,\n",
       "  <matplotlib.patches.Wedge at 0x7f87baf43100>],\n",
       " [Text(-1.0279710690084891, -0.39150412677460306, 'JIO'),\n",
       "  Text(1.0824570437018495, -0.1956699990807298, 'AIRTEL'),\n",
       "  Text(0.6217038057792765, 0.9074604001715798, 'Vi India'),\n",
       "  Text(0.06369141254498066, 1.0981545446648322, 'CELLONE')],\n",
       " [Text(-0.5607114921864486, -0.2135477055134198, '61.6%'),\n",
       "  Text(0.5904311147464633, -0.1067290904076708, '21.1%'),\n",
       "  Text(0.3391111667886963, 0.49497840009358895, '15.4%'),\n",
       "  Text(0.034740770479080356, 0.5989933879989994, '1.8%')])"
      ]
     },
     "execution_count": 73,
     "metadata": {},
     "output_type": "execute_result"
    },
    {
     "data": {
      "image/png": "[encoded data removed]",
      "text/plain": [
       "<Figure size 640x480 with 1 Axes>"
      ]
     },
     "metadata": {},
     "output_type": "display_data"
    }
   ],
   "source": [
    "plt.pie(df['operator'].value_counts(), labels = df['operator'].value_counts().index, autopct='%1.1f%%', shadow=True, startangle=90)"
   ]
  },
  {
   "cell_type": "markdown",
   "metadata": {},
   "source": [
    "Above chart has both download and upload speeds data, Let's visualize the dataset based on the upload speed and download speed also"
   ]
  },
  {
   "cell_type": "code",
   "execution_count": 89,
   "metadata": {},
   "outputs": [
    {
     "data": {
      "image/png": "[encoded data removed]",
      "text/plain": [
       "<Figure size 640x480 with 1 Axes>"
      ]
     },
     "metadata": {},
     "output_type": "display_data"
    }
   ],
   "source": [
    "# Python\n",
    "import pandas as pd\n",
    "import seaborn as sns\n",
    "import matplotlib.pyplot as plt\n",
    "\n",
    "# Plot the count of '0's and '1's in 'download' for each 'operator'\n",
    "plot = sns.countplot(x='operator', hue='download', data=df)\n",
    "\n",
    "# Add custom labels\n",
    "plot.legend(title='Download/Upload', labels=['Upload (0)', 'Download (1)'])\n",
    "\n",
    "# Show the plot\n",
    "plt.show()"
   ]
  },
  {
   "cell_type": "markdown",
   "metadata": {},
   "source": [
    "Let's create the different data frames for the upload and download speeds \n",
    "\n",
    "## Analysis based on download speeds\n"
   ]
  },
  {
   "cell_type": "code",
   "execution_count": 92,
   "metadata": {},
   "outputs": [],
   "source": [
    "download_df = df[df['download'] == 1]"
   ]
  },
  {
   "cell_type": "code",
   "execution_count": 94,
   "metadata": {},
   "outputs": [
    {
     "data": {
      "text/html": [
       "<div>\n",
       "<style scoped>\n",
       "    .dataframe tbody tr th:only-of-type {\n",
       "        vertical-align: middle;\n",
       "    }\n",
       "\n",
       "    .dataframe tbody tr th {\n",
       "        vertical-align: top;\n",
       "    }\n",
       "\n",
       "    .dataframe thead th {\n",
       "        text-align: right;\n",
       "    }\n",
       "</style>\n",
       "<table border=\"1\" class=\"dataframe\">\n",
       "  <thead>\n",
       "    <tr style=\"text-align: right;\">\n",
       "      <th></th>\n",
       "      <th>operator</th>\n",
       "      <th>technology</th>\n",
       "      <th>download</th>\n",
       "      <th>speed_kbps</th>\n",
       "      <th>signal_strength</th>\n",
       "      <th>lsa</th>\n",
       "    </tr>\n",
       "  </thead>\n",
       "  <tbody>\n",
       "    <tr>\n",
       "      <th>7</th>\n",
       "      <td>AIRTEL</td>\n",
       "      <td>1</td>\n",
       "      <td>1</td>\n",
       "      <td>2316</td>\n",
       "      <td>-57</td>\n",
       "      <td>Andhra Pradesh</td>\n",
       "    </tr>\n",
       "    <tr>\n",
       "      <th>11</th>\n",
       "      <td>AIRTEL</td>\n",
       "      <td>1</td>\n",
       "      <td>1</td>\n",
       "      <td>723</td>\n",
       "      <td>-111</td>\n",
       "      <td>Andhra Pradesh</td>\n",
       "    </tr>\n",
       "    <tr>\n",
       "      <th>13</th>\n",
       "      <td>JIO</td>\n",
       "      <td>1</td>\n",
       "      <td>1</td>\n",
       "      <td>28167</td>\n",
       "      <td>-62</td>\n",
       "      <td>UP West</td>\n",
       "    </tr>\n",
       "    <tr>\n",
       "      <th>14</th>\n",
       "      <td>JIO</td>\n",
       "      <td>1</td>\n",
       "      <td>1</td>\n",
       "      <td>39433</td>\n",
       "      <td>-62</td>\n",
       "      <td>UP West</td>\n",
       "    </tr>\n",
       "    <tr>\n",
       "      <th>15</th>\n",
       "      <td>JIO</td>\n",
       "      <td>1</td>\n",
       "      <td>1</td>\n",
       "      <td>38477</td>\n",
       "      <td>-62</td>\n",
       "      <td>UP West</td>\n",
       "    </tr>\n",
       "    <tr>\n",
       "      <th>...</th>\n",
       "      <td>...</td>\n",
       "      <td>...</td>\n",
       "      <td>...</td>\n",
       "      <td>...</td>\n",
       "      <td>...</td>\n",
       "      <td>...</td>\n",
       "    </tr>\n",
       "    <tr>\n",
       "      <th>290486</th>\n",
       "      <td>AIRTEL</td>\n",
       "      <td>1</td>\n",
       "      <td>1</td>\n",
       "      <td>0</td>\n",
       "      <td>-91</td>\n",
       "      <td>Chennai</td>\n",
       "    </tr>\n",
       "    <tr>\n",
       "      <th>290488</th>\n",
       "      <td>Vi India</td>\n",
       "      <td>1</td>\n",
       "      <td>1</td>\n",
       "      <td>16563</td>\n",
       "      <td>-77</td>\n",
       "      <td>Punjab</td>\n",
       "    </tr>\n",
       "    <tr>\n",
       "      <th>290489</th>\n",
       "      <td>Vi India</td>\n",
       "      <td>1</td>\n",
       "      <td>1</td>\n",
       "      <td>14545</td>\n",
       "      <td>-69</td>\n",
       "      <td>Punjab</td>\n",
       "    </tr>\n",
       "    <tr>\n",
       "      <th>290492</th>\n",
       "      <td>AIRTEL</td>\n",
       "      <td>1</td>\n",
       "      <td>1</td>\n",
       "      <td>2080</td>\n",
       "      <td>-111</td>\n",
       "      <td>Orissa</td>\n",
       "    </tr>\n",
       "    <tr>\n",
       "      <th>290493</th>\n",
       "      <td>AIRTEL</td>\n",
       "      <td>1</td>\n",
       "      <td>1</td>\n",
       "      <td>10819</td>\n",
       "      <td>-107</td>\n",
       "      <td>Orissa</td>\n",
       "    </tr>\n",
       "  </tbody>\n",
       "</table>\n",
       "<p>103769 rows × 6 columns</p>\n",
       "</div>"
      ],
      "text/plain": [
       "        operator  technology  download  speed_kbps  signal_strength  \\\n",
       "7         AIRTEL           1         1        2316              -57   \n",
       "11        AIRTEL           1         1         723             -111   \n",
       "13           JIO           1         1       28167              -62   \n",
       "14           JIO           1         1       39433              -62   \n",
       "15           JIO           1         1       38477              -62   \n",
       "...          ...         ...       ...         ...              ...   \n",
       "290486    AIRTEL           1         1           0              -91   \n",
       "290488  Vi India           1         1       16563              -77   \n",
       "290489  Vi India           1         1       14545              -69   \n",
       "290492    AIRTEL           1         1        2080             -111   \n",
       "290493    AIRTEL           1         1       10819             -107   \n",
       "\n",
       "                   lsa  \n",
       "7       Andhra Pradesh  \n",
       "11      Andhra Pradesh  \n",
       "13             UP West  \n",
       "14             UP West  \n",
       "15             UP West  \n",
       "...                ...  \n",
       "290486         Chennai  \n",
       "290488          Punjab  \n",
       "290489          Punjab  \n",
       "290492          Orissa  \n",
       "290493          Orissa  \n",
       "\n",
       "[103769 rows x 6 columns]"
      ]
     },
     "execution_count": 94,
     "metadata": {},
     "output_type": "execute_result"
    }
   ],
   "source": [
    "download_df"
   ]
  },
  {
   "cell_type": "code",
   "execution_count": 96,
   "metadata": {},
   "outputs": [
    {
     "data": {
      "text/plain": [
       "<AxesSubplot:xlabel='speed_kbps'>"
      ]
     },
     "execution_count": 96,
     "metadata": {},
     "output_type": "execute_result"
    },
    {
     "data": {
      "image/png": "[encoded data removed]",
      "text/plain": [
       "<Figure size 640x480 with 1 Axes>"
      ]
     },
     "metadata": {},
     "output_type": "display_data"
    }
   ],
   "source": [
    "sns.boxplot(x=download_df['speed_kbps'])"
   ]
  },
  {
   "cell_type": "code",
   "execution_count": 98,
   "metadata": {},
   "outputs": [
    {
     "data": {
      "text/html": [
       "<div>\n",
       "<style scoped>\n",
       "    .dataframe tbody tr th:only-of-type {\n",
       "        vertical-align: middle;\n",
       "    }\n",
       "\n",
       "    .dataframe tbody tr th {\n",
       "        vertical-align: top;\n",
       "    }\n",
       "\n",
       "    .dataframe thead th {\n",
       "        text-align: right;\n",
       "    }\n",
       "</style>\n",
       "<table border=\"1\" class=\"dataframe\">\n",
       "  <thead>\n",
       "    <tr style=\"text-align: right;\">\n",
       "      <th></th>\n",
       "      <th>operator</th>\n",
       "      <th>technology</th>\n",
       "      <th>download</th>\n",
       "      <th>speed_kbps</th>\n",
       "      <th>signal_strength</th>\n",
       "      <th>lsa</th>\n",
       "    </tr>\n",
       "  </thead>\n",
       "  <tbody>\n",
       "    <tr>\n",
       "      <th>205</th>\n",
       "      <td>JIO</td>\n",
       "      <td>1</td>\n",
       "      <td>1</td>\n",
       "      <td>78091</td>\n",
       "      <td>-110</td>\n",
       "      <td>Karnataka</td>\n",
       "    </tr>\n",
       "    <tr>\n",
       "      <th>234</th>\n",
       "      <td>JIO</td>\n",
       "      <td>1</td>\n",
       "      <td>1</td>\n",
       "      <td>75256</td>\n",
       "      <td>-72</td>\n",
       "      <td>UP East</td>\n",
       "    </tr>\n",
       "    <tr>\n",
       "      <th>279</th>\n",
       "      <td>JIO</td>\n",
       "      <td>1</td>\n",
       "      <td>1</td>\n",
       "      <td>71330</td>\n",
       "      <td>-66</td>\n",
       "      <td>Mumbai</td>\n",
       "    </tr>\n",
       "    <tr>\n",
       "      <th>315</th>\n",
       "      <td>JIO</td>\n",
       "      <td>1</td>\n",
       "      <td>1</td>\n",
       "      <td>70188</td>\n",
       "      <td>-90</td>\n",
       "      <td>Andhra Pradesh</td>\n",
       "    </tr>\n",
       "    <tr>\n",
       "      <th>324</th>\n",
       "      <td>JIO</td>\n",
       "      <td>1</td>\n",
       "      <td>1</td>\n",
       "      <td>68659</td>\n",
       "      <td>-70</td>\n",
       "      <td>Karnataka</td>\n",
       "    </tr>\n",
       "    <tr>\n",
       "      <th>...</th>\n",
       "      <td>...</td>\n",
       "      <td>...</td>\n",
       "      <td>...</td>\n",
       "      <td>...</td>\n",
       "      <td>...</td>\n",
       "      <td>...</td>\n",
       "    </tr>\n",
       "    <tr>\n",
       "      <th>289125</th>\n",
       "      <td>JIO</td>\n",
       "      <td>1</td>\n",
       "      <td>1</td>\n",
       "      <td>82324</td>\n",
       "      <td>-68</td>\n",
       "      <td>Bihar</td>\n",
       "    </tr>\n",
       "    <tr>\n",
       "      <th>289205</th>\n",
       "      <td>JIO</td>\n",
       "      <td>1</td>\n",
       "      <td>1</td>\n",
       "      <td>83609</td>\n",
       "      <td>-66</td>\n",
       "      <td>Andhra Pradesh</td>\n",
       "    </tr>\n",
       "    <tr>\n",
       "      <th>289238</th>\n",
       "      <td>JIO</td>\n",
       "      <td>1</td>\n",
       "      <td>1</td>\n",
       "      <td>81657</td>\n",
       "      <td>-67</td>\n",
       "      <td>Karnataka</td>\n",
       "    </tr>\n",
       "    <tr>\n",
       "      <th>289497</th>\n",
       "      <td>JIO</td>\n",
       "      <td>1</td>\n",
       "      <td>1</td>\n",
       "      <td>73578</td>\n",
       "      <td>-71</td>\n",
       "      <td>Karnataka</td>\n",
       "    </tr>\n",
       "    <tr>\n",
       "      <th>289500</th>\n",
       "      <td>JIO</td>\n",
       "      <td>1</td>\n",
       "      <td>1</td>\n",
       "      <td>75853</td>\n",
       "      <td>-71</td>\n",
       "      <td>Karnataka</td>\n",
       "    </tr>\n",
       "  </tbody>\n",
       "</table>\n",
       "<p>1331 rows × 6 columns</p>\n",
       "</div>"
      ],
      "text/plain": [
       "       operator  technology  download  speed_kbps  signal_strength  \\\n",
       "205         JIO           1         1       78091             -110   \n",
       "234         JIO           1         1       75256              -72   \n",
       "279         JIO           1         1       71330              -66   \n",
       "315         JIO           1         1       70188              -90   \n",
       "324         JIO           1         1       68659              -70   \n",
       "...         ...         ...       ...         ...              ...   \n",
       "289125      JIO           1         1       82324              -68   \n",
       "289205      JIO           1         1       83609              -66   \n",
       "289238      JIO           1         1       81657              -67   \n",
       "289497      JIO           1         1       73578              -71   \n",
       "289500      JIO           1         1       75853              -71   \n",
       "\n",
       "                   lsa  \n",
       "205          Karnataka  \n",
       "234            UP East  \n",
       "279             Mumbai  \n",
       "315     Andhra Pradesh  \n",
       "324          Karnataka  \n",
       "...                ...  \n",
       "289125           Bihar  \n",
       "289205  Andhra Pradesh  \n",
       "289238       Karnataka  \n",
       "289497       Karnataka  \n",
       "289500       Karnataka  \n",
       "\n",
       "[1331 rows x 6 columns]"
      ]
     },
     "execution_count": 98,
     "metadata": {},
     "output_type": "execute_result"
    }
   ],
   "source": [
    "# Python\n",
    "import pandas as pd\n",
    "\n",
    "# Calculate Q1, Q3 and IQR\n",
    "Q1 = download_df['speed_kbps'].quantile(0.25)\n",
    "Q3 = download_df['speed_kbps'].quantile(0.75)\n",
    "IQR = Q3 - Q1\n",
    "\n",
    "# Define the range for outliers\n",
    "lower_limit = Q1 - 1.5 * IQR\n",
    "upper_limit = Q3 + 1.5 * IQR\n",
    "\n",
    "# Identify the outliers\n",
    "outliers = download_df[(download_df['speed_kbps'] < lower_limit) | (download_df['speed_kbps'] > upper_limit)]\n",
    "outliers"
   ]
  },
  {
   "cell_type": "code",
   "execution_count": 100,
   "metadata": {},
   "outputs": [
    {
     "data": {
      "text/html": [
       "<div>\n",
       "<style scoped>\n",
       "    .dataframe tbody tr th:only-of-type {\n",
       "        vertical-align: middle;\n",
       "    }\n",
       "\n",
       "    .dataframe tbody tr th {\n",
       "        vertical-align: top;\n",
       "    }\n",
       "\n",
       "    .dataframe thead th {\n",
       "        text-align: right;\n",
       "    }\n",
       "</style>\n",
       "<table border=\"1\" class=\"dataframe\">\n",
       "  <thead>\n",
       "    <tr style=\"text-align: right;\">\n",
       "      <th></th>\n",
       "      <th>operator</th>\n",
       "      <th>technology</th>\n",
       "      <th>download</th>\n",
       "      <th>speed_kbps</th>\n",
       "      <th>signal_strength</th>\n",
       "      <th>lsa</th>\n",
       "    </tr>\n",
       "  </thead>\n",
       "  <tbody>\n",
       "    <tr>\n",
       "      <th>200093</th>\n",
       "      <td>AIRTEL</td>\n",
       "      <td>1</td>\n",
       "      <td>1</td>\n",
       "      <td>139083</td>\n",
       "      <td>-79</td>\n",
       "      <td>Gujarat</td>\n",
       "    </tr>\n",
       "    <tr>\n",
       "      <th>218560</th>\n",
       "      <td>JIO</td>\n",
       "      <td>1</td>\n",
       "      <td>1</td>\n",
       "      <td>120929</td>\n",
       "      <td>-97</td>\n",
       "      <td>Maharashtra</td>\n",
       "    </tr>\n",
       "    <tr>\n",
       "      <th>120828</th>\n",
       "      <td>JIO</td>\n",
       "      <td>1</td>\n",
       "      <td>1</td>\n",
       "      <td>120929</td>\n",
       "      <td>-97</td>\n",
       "      <td>Maharashtra</td>\n",
       "    </tr>\n",
       "    <tr>\n",
       "      <th>227319</th>\n",
       "      <td>Vi India</td>\n",
       "      <td>1</td>\n",
       "      <td>1</td>\n",
       "      <td>116206</td>\n",
       "      <td>-102</td>\n",
       "      <td>UP East</td>\n",
       "    </tr>\n",
       "    <tr>\n",
       "      <th>147685</th>\n",
       "      <td>Vi India</td>\n",
       "      <td>1</td>\n",
       "      <td>1</td>\n",
       "      <td>116206</td>\n",
       "      <td>-102</td>\n",
       "      <td>UP East</td>\n",
       "    </tr>\n",
       "    <tr>\n",
       "      <th>...</th>\n",
       "      <td>...</td>\n",
       "      <td>...</td>\n",
       "      <td>...</td>\n",
       "      <td>...</td>\n",
       "      <td>...</td>\n",
       "      <td>...</td>\n",
       "    </tr>\n",
       "    <tr>\n",
       "      <th>38125</th>\n",
       "      <td>JIO</td>\n",
       "      <td>1</td>\n",
       "      <td>1</td>\n",
       "      <td>68572</td>\n",
       "      <td>-65</td>\n",
       "      <td>UP East</td>\n",
       "    </tr>\n",
       "    <tr>\n",
       "      <th>104749</th>\n",
       "      <td>JIO</td>\n",
       "      <td>1</td>\n",
       "      <td>1</td>\n",
       "      <td>68548</td>\n",
       "      <td>-72</td>\n",
       "      <td>Karnataka</td>\n",
       "    </tr>\n",
       "    <tr>\n",
       "      <th>44517</th>\n",
       "      <td>JIO</td>\n",
       "      <td>1</td>\n",
       "      <td>1</td>\n",
       "      <td>68548</td>\n",
       "      <td>-72</td>\n",
       "      <td>Karnataka</td>\n",
       "    </tr>\n",
       "    <tr>\n",
       "      <th>104752</th>\n",
       "      <td>JIO</td>\n",
       "      <td>1</td>\n",
       "      <td>1</td>\n",
       "      <td>68546</td>\n",
       "      <td>-72</td>\n",
       "      <td>Karnataka</td>\n",
       "    </tr>\n",
       "    <tr>\n",
       "      <th>44520</th>\n",
       "      <td>JIO</td>\n",
       "      <td>1</td>\n",
       "      <td>1</td>\n",
       "      <td>68546</td>\n",
       "      <td>-72</td>\n",
       "      <td>Karnataka</td>\n",
       "    </tr>\n",
       "  </tbody>\n",
       "</table>\n",
       "<p>1331 rows × 6 columns</p>\n",
       "</div>"
      ],
      "text/plain": [
       "        operator  technology  download  speed_kbps  signal_strength  \\\n",
       "200093    AIRTEL           1         1      139083              -79   \n",
       "218560       JIO           1         1      120929              -97   \n",
       "120828       JIO           1         1      120929              -97   \n",
       "227319  Vi India           1         1      116206             -102   \n",
       "147685  Vi India           1         1      116206             -102   \n",
       "...          ...         ...       ...         ...              ...   \n",
       "38125        JIO           1         1       68572              -65   \n",
       "104749       JIO           1         1       68548              -72   \n",
       "44517        JIO           1         1       68548              -72   \n",
       "104752       JIO           1         1       68546              -72   \n",
       "44520        JIO           1         1       68546              -72   \n",
       "\n",
       "                lsa  \n",
       "200093      Gujarat  \n",
       "218560  Maharashtra  \n",
       "120828  Maharashtra  \n",
       "227319      UP East  \n",
       "147685      UP East  \n",
       "...             ...  \n",
       "38125       UP East  \n",
       "104749    Karnataka  \n",
       "44517     Karnataka  \n",
       "104752    Karnataka  \n",
       "44520     Karnataka  \n",
       "\n",
       "[1331 rows x 6 columns]"
      ]
     },
     "execution_count": 100,
     "metadata": {},
     "output_type": "execute_result"
    }
   ],
   "source": [
    "# Python\n",
    "# Sort the outliers DataFrame\n",
    "sorted_outliers = outliers.sort_values('speed_kbps', ascending=False)\n",
    "sorted_outliers"
   ]
  },
  {
   "cell_type": "code",
   "execution_count": 101,
   "metadata": {},
   "outputs": [
    {
     "name": "stdout",
     "output_type": "stream",
     "text": [
      "Mean: 15667.955497306517\n",
      "Median: 7986.0\n"
     ]
    }
   ],
   "source": [
    "# Python\n",
    "mean_speed = download_df['speed_kbps'].mean()\n",
    "median_speed = download_df['speed_kbps'].median()\n",
    "\n",
    "print(f\"Mean: {mean_speed}\")\n",
    "print(f\"Median: {median_speed}\")"
   ]
  },
  {
   "cell_type": "code",
   "execution_count": 102,
   "metadata": {},
   "outputs": [
    {
     "data": {
      "image/png": "[encoded data removed]",
      "text/plain": [
       "<Figure size 640x480 with 1 Axes>"
      ]
     },
     "metadata": {},
     "output_type": "display_data"
    },
    {
     "data": {
      "image/png": "[encoded data removed]",
      "text/plain": [
       "<Figure size 640x480 with 1 Axes>"
      ]
     },
     "metadata": {},
     "output_type": "display_data"
    }
   ],
   "source": [
    "# Python\n",
    "import matplotlib.pyplot as plt\n",
    "\n",
    "# Plot histogram\n",
    "plt.hist(download_df['speed_kbps'], bins=30)\n",
    "plt.xlabel('Speed (Kbps)')\n",
    "plt.ylabel('Frequency')\n",
    "plt.title('Histogram of Speed')\n",
    "plt.show()\n",
    "\n",
    "# Plot boxplot\n",
    "plt.boxplot(download_df['speed_kbps'])\n",
    "plt.ylabel('Speed (Kbps)')\n",
    "plt.title('Boxplot of Speed')\n",
    "plt.show()"
   ]
  },
  {
   "cell_type": "code",
   "execution_count": 95,
   "metadata": {},
   "outputs": [
    {
     "data": {
      "image/png": "[encoded data removed]",
      "text/plain": [
       "<Figure size 800x600 with 1 Axes>"
      ]
     },
     "metadata": {},
     "output_type": "display_data"
    }
   ],
   "source": [
    "plt.figure(figsize=(8, 6))\n",
    "plt.scatter(df['signal_strength'], df['speed_kbps'], c='b', label='Data Speed')\n",
    "plt.xlabel('Signal Strength (dB)')\n",
    "plt.ylabel('Data Speed (Kbps)')\n",
    "plt.title('Data Speed vs. Signal Strength')\n",
    "plt.legend()\n",
    "plt.grid(True)\n",
    "plt.show()\n"
   ]
  },
  {
   "cell_type": "code",
   "execution_count": 90,
   "metadata": {},
   "outputs": [
    {
     "data": {
      "image/png": "[encoded data removed]",
      "text/plain": [
       "<Figure size 1000x800 with 2 Axes>"
      ]
     },
     "metadata": {},
     "output_type": "display_data"
    }
   ],
   "source": [
    "import seaborn as sns\n",
    "import matplotlib.pyplot as plt\n",
    "\n",
    "# Assuming 'df' is your DataFrame\n",
    "correlation_matrix = df.corr()  # Calculate the correlation matrix\n",
    "\n",
    "plt.figure(figsize=(10, 8))\n",
    "sns.heatmap(correlation_matrix, annot=True, cmap='coolwarm', linewidths=0.5)\n",
    "plt.title('Correlation Heatmap')\n",
    "plt.show()\n"
   ]
  },
  {
   "cell_type": "code",
   "execution_count": 26,
   "metadata": {},
   "outputs": [
    {
     "data": {
      "text/plain": [
       "Maharashtra         29303\n",
       "Kerala              24940\n",
       "UP East             22381\n",
       "Tamil Nadu          17968\n",
       "Andhra Pradesh      17127\n",
       "Rajasthan           15921\n",
       "UP West             14585\n",
       "Karnataka           13347\n",
       "Gujarat             12116\n",
       "Madhya Pradesh      11408\n",
       "Delhi               10828\n",
       "Bihar                9879\n",
       "Kolkata              8738\n",
       "Punjab               6843\n",
       "Mumbai               6550\n",
       "Orissa               6388\n",
       "Chennai              5943\n",
       "West Bengal          4738\n",
       "Haryana              2819\n",
       "Jammu & Kashmir      1990\n",
       "Assam                1673\n",
       "Himachal Pradesh     1440\n",
       "North East            343\n",
       "Name: lsa, dtype: int64"
      ]
     },
     "execution_count": 26,
     "metadata": {},
     "output_type": "execute_result"
    }
   ],
   "source": [
    "df['lsa'].value_counts()"
   ]
  },
  {
   "cell_type": "code",
   "execution_count": 41,
   "metadata": {},
   "outputs": [],
   "source": [
    "cor = df.corr()"
   ]
  },
  {
   "cell_type": "code",
   "execution_count": 42,
   "metadata": {},
   "outputs": [
    {
     "data": {
      "text/html": [
       "<div>\n",
       "<style scoped>\n",
       "    .dataframe tbody tr th:only-of-type {\n",
       "        vertical-align: middle;\n",
       "    }\n",
       "\n",
       "    .dataframe tbody tr th {\n",
       "        vertical-align: top;\n",
       "    }\n",
       "\n",
       "    .dataframe thead th {\n",
       "        text-align: right;\n",
       "    }\n",
       "</style>\n",
       "<table border=\"1\" class=\"dataframe\">\n",
       "  <thead>\n",
       "    <tr style=\"text-align: right;\">\n",
       "      <th></th>\n",
       "      <th>download</th>\n",
       "      <th>speed_kbps</th>\n",
       "    </tr>\n",
       "  </thead>\n",
       "  <tbody>\n",
       "    <tr>\n",
       "      <th>download</th>\n",
       "      <td>1.000000</td>\n",
       "      <td>0.369643</td>\n",
       "    </tr>\n",
       "    <tr>\n",
       "      <th>speed_kbps</th>\n",
       "      <td>0.369643</td>\n",
       "      <td>1.000000</td>\n",
       "    </tr>\n",
       "  </tbody>\n",
       "</table>\n",
       "</div>"
      ],
      "text/plain": [
       "            download  speed_kbps\n",
       "download    1.000000    0.369643\n",
       "speed_kbps  0.369643    1.000000"
      ]
     },
     "execution_count": 42,
     "metadata": {},
     "output_type": "execute_result"
    }
   ],
   "source": [
    "cor"
   ]
  }
 ],
 "metadata": {
  "kernelspec": {
   "display_name": "Python 3",
   "language": "python",
   "name": "python3"
  },
  "language_info": {
   "codemirror_mode": {
    "name": "ipython",
    "version": 3
   },
   "file_extension": ".py",
   "mimetype": "text/x-python",
   "name": "python",
   "nbconvert_exporter": "python",
   "pygments_lexer": "ipython3",
   "version": "3.9.13"
  }
 },
 "nbformat": 4,
 "nbformat_minor": 2
}
